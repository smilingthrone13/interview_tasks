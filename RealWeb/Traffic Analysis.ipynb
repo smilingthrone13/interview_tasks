{
 "cells": [
  {
   "cell_type": "markdown",
   "id": "0a34d72d",
   "metadata": {},
   "source": [
    "# Тестовое задание\n",
    "На предоставленных данных необходимо решить две задачи:\n",
    "\n",
    "1. Построить две диаграммы распределения созданий резюме для студентов, начинающих карьеру – отдельно для male и female. Сделать выводы из полученных данных.\n",
    "2. Спрогнозировать объем трафика для сегмента «Informacionnye-tehnologii-Internet-Telekom», построить прогноз на месяц вперед. Указать, какие данные понадобятся для построения более корректного прогноза. Описать подход к этой задаче при возможности доступа к любым данным."
   ]
  },
  {
   "cell_type": "code",
   "execution_count": 1,
   "id": "c58eada2",
   "metadata": {},
   "outputs": [],
   "source": [
    "# Импортируем библиотеки\n",
    "import pandas as pd # Основные интсрументы анализа данных\n",
    "import matplotlib as plt # Работа с диаграммами\n",
    "import seaborn as sns # Работа с диаграммами"
   ]
  },
  {
   "cell_type": "markdown",
   "id": "ce41bd9e",
   "metadata": {},
   "source": [
    "## 1. Изучение и обработка данных\n",
    "В переменную df считаем данные, затем выведем первые 10 записей и проведем первичный анализ."
   ]
  },
  {
   "cell_type": "code",
   "execution_count": 2,
   "id": "3be4a66a",
   "metadata": {
    "scrolled": true
   },
   "outputs": [
    {
     "data": {
      "text/html": [
       "<div>\n",
       "<style scoped>\n",
       "    .dataframe tbody tr th:only-of-type {\n",
       "        vertical-align: middle;\n",
       "    }\n",
       "\n",
       "    .dataframe tbody tr th {\n",
       "        vertical-align: top;\n",
       "    }\n",
       "\n",
       "    .dataframe thead th {\n",
       "        text-align: right;\n",
       "    }\n",
       "</style>\n",
       "<table border=\"1\" class=\"dataframe\">\n",
       "  <thead>\n",
       "    <tr style=\"text-align: right;\">\n",
       "      <th></th>\n",
       "      <th>Date</th>\n",
       "      <th>Category</th>\n",
       "      <th>Age</th>\n",
       "      <th>Gender</th>\n",
       "      <th>Sessions</th>\n",
       "      <th>Users</th>\n",
       "      <th>Goals</th>\n",
       "    </tr>\n",
       "  </thead>\n",
       "  <tbody>\n",
       "    <tr>\n",
       "      <td>0</td>\n",
       "      <td>2020-03-02</td>\n",
       "      <td>Prodazhi</td>\n",
       "      <td>25-34</td>\n",
       "      <td>female</td>\n",
       "      <td>22235</td>\n",
       "      <td>10504</td>\n",
       "      <td>185</td>\n",
       "    </tr>\n",
       "    <tr>\n",
       "      <td>1</td>\n",
       "      <td>2020-03-03</td>\n",
       "      <td>Prodazhi</td>\n",
       "      <td>25-34</td>\n",
       "      <td>female</td>\n",
       "      <td>20423</td>\n",
       "      <td>10425</td>\n",
       "      <td>181</td>\n",
       "    </tr>\n",
       "    <tr>\n",
       "      <td>2</td>\n",
       "      <td>2020-03-10</td>\n",
       "      <td>Prodazhi</td>\n",
       "      <td>25-34</td>\n",
       "      <td>female</td>\n",
       "      <td>19784</td>\n",
       "      <td>10167</td>\n",
       "      <td>205</td>\n",
       "    </tr>\n",
       "    <tr>\n",
       "      <td>3</td>\n",
       "      <td>2020-03-04</td>\n",
       "      <td>Prodazhi</td>\n",
       "      <td>25-34</td>\n",
       "      <td>female</td>\n",
       "      <td>19394</td>\n",
       "      <td>9917</td>\n",
       "      <td>174</td>\n",
       "    </tr>\n",
       "    <tr>\n",
       "      <td>4</td>\n",
       "      <td>2020-03-11</td>\n",
       "      <td>Prodazhi</td>\n",
       "      <td>25-34</td>\n",
       "      <td>female</td>\n",
       "      <td>18875</td>\n",
       "      <td>9813</td>\n",
       "      <td>214</td>\n",
       "    </tr>\n",
       "    <tr>\n",
       "      <td>5</td>\n",
       "      <td>2020-03-02</td>\n",
       "      <td>Buhgalterija-Upravlencheskij-uchet-Finansy-pre...</td>\n",
       "      <td>25-34</td>\n",
       "      <td>female</td>\n",
       "      <td>18187</td>\n",
       "      <td>8687</td>\n",
       "      <td>78</td>\n",
       "    </tr>\n",
       "    <tr>\n",
       "      <td>6</td>\n",
       "      <td>2020-03-05</td>\n",
       "      <td>Prodazhi</td>\n",
       "      <td>25-34</td>\n",
       "      <td>female</td>\n",
       "      <td>17747</td>\n",
       "      <td>9173</td>\n",
       "      <td>152</td>\n",
       "    </tr>\n",
       "    <tr>\n",
       "      <td>7</td>\n",
       "      <td>2020-03-02</td>\n",
       "      <td>Informacionnye-tehnologii-Internet-Telekom</td>\n",
       "      <td>25-34</td>\n",
       "      <td>male</td>\n",
       "      <td>17620</td>\n",
       "      <td>8735</td>\n",
       "      <td>85</td>\n",
       "    </tr>\n",
       "    <tr>\n",
       "      <td>8</td>\n",
       "      <td>2020-03-03</td>\n",
       "      <td>Informacionnye-tehnologii-Internet-Telekom</td>\n",
       "      <td>25-34</td>\n",
       "      <td>male</td>\n",
       "      <td>17532</td>\n",
       "      <td>8911</td>\n",
       "      <td>79</td>\n",
       "    </tr>\n",
       "    <tr>\n",
       "      <td>9</td>\n",
       "      <td>2020-03-23</td>\n",
       "      <td>Prodazhi</td>\n",
       "      <td>25-34</td>\n",
       "      <td>female</td>\n",
       "      <td>17330</td>\n",
       "      <td>8755</td>\n",
       "      <td>191</td>\n",
       "    </tr>\n",
       "  </tbody>\n",
       "</table>\n",
       "</div>"
      ],
      "text/plain": [
       "         Date                                           Category    Age  \\\n",
       "0  2020-03-02                                           Prodazhi  25-34   \n",
       "1  2020-03-03                                           Prodazhi  25-34   \n",
       "2  2020-03-10                                           Prodazhi  25-34   \n",
       "3  2020-03-04                                           Prodazhi  25-34   \n",
       "4  2020-03-11                                           Prodazhi  25-34   \n",
       "5  2020-03-02  Buhgalterija-Upravlencheskij-uchet-Finansy-pre...  25-34   \n",
       "6  2020-03-05                                           Prodazhi  25-34   \n",
       "7  2020-03-02         Informacionnye-tehnologii-Internet-Telekom  25-34   \n",
       "8  2020-03-03         Informacionnye-tehnologii-Internet-Telekom  25-34   \n",
       "9  2020-03-23                                           Prodazhi  25-34   \n",
       "\n",
       "   Gender  Sessions  Users  Goals  \n",
       "0  female     22235  10504    185  \n",
       "1  female     20423  10425    181  \n",
       "2  female     19784  10167    205  \n",
       "3  female     19394   9917    174  \n",
       "4  female     18875   9813    214  \n",
       "5  female     18187   8687     78  \n",
       "6  female     17747   9173    152  \n",
       "7    male     17620   8735     85  \n",
       "8    male     17532   8911     79  \n",
       "9  female     17330   8755    191  "
      ]
     },
     "execution_count": 2,
     "metadata": {},
     "output_type": "execute_result"
    }
   ],
   "source": [
    "df = pd.read_csv('test_data.csv')\n",
    "df.head(10)"
   ]
  },
  {
   "cell_type": "code",
   "execution_count": 3,
   "id": "a27bcda2",
   "metadata": {},
   "outputs": [
    {
     "name": "stdout",
     "output_type": "stream",
     "text": [
      "<class 'pandas.core.frame.DataFrame'>\n",
      "RangeIndex: 28819 entries, 0 to 28818\n",
      "Data columns (total 7 columns):\n",
      "Date        28819 non-null object\n",
      "Category    28819 non-null object\n",
      "Age         28819 non-null object\n",
      "Gender      28819 non-null object\n",
      "Sessions    28819 non-null int64\n",
      "Users       28819 non-null int64\n",
      "Goals       28819 non-null int64\n",
      "dtypes: int64(3), object(4)\n",
      "memory usage: 1.5+ MB\n",
      "Количество явных дубликатов: 0\n"
     ]
    }
   ],
   "source": [
    "df.info()\n",
    "print('Количество явных дубликатов:', df.duplicated().sum())"
   ]
  },
  {
   "cell_type": "markdown",
   "id": "57955bbb",
   "metadata": {},
   "source": [
    "Таблица имеет 28819 записей в 7 столбцах:\n",
    "* `Date` - дата записи;\n",
    "* `Category` - направление деятельности;\n",
    "* `Age` - возрастная группа;\n",
    "* `Gender` - пол;\n",
    "* `Sessions` - количество посещений;\n",
    "* `Users` - количество пользователей (скорее всего - уникальных);\n",
    "* `Goals` - количество созданных резюме.\n",
    "\n",
    "Пропусков в данных нет, явных дубликатов в таблице не найдено.<br>\n",
    "Заменим названия столбцов, приведя все буквы в нижний регистр. Затем проверим, есть ли неявные дубликаты в столбце `Category`:"
   ]
  },
  {
   "cell_type": "code",
   "execution_count": 4,
   "id": "322b53e0",
   "metadata": {},
   "outputs": [
    {
     "name": "stdout",
     "output_type": "stream",
     "text": [
      "Уникальные платформы: ['Prodazhi' 'Buhgalterija-Upravlencheskij-uchet-Finansy-predprijatija'\n",
      " 'Informacionnye-tehnologii-Internet-Telekom' 'Administrativnyj-personal'\n",
      " 'Proizvodstvo' 'Transport-Logistika' 'Nachalo-karery-Studenty'\n",
      " 'Stroitelstvo-Nedvizhimost' 'Marketing-Reklama-PR'\n",
      " 'Upravlenie-personalom-Treningi' 'Vysshij-menedzhment'\n",
      " 'Banki-Investicii-Lizing' 'Juristy' 'Rabochij-personal'\n",
      " 'Medicina-Farmacevtika' 'Iskusstvo-Razvlechenija-Mass-media'\n",
      " 'Turizm-Gostinicy-Restorany' 'Bezopasnost' 'Avtomobilnyj-biznes'\n",
      " 'Zakupki' 'Dobycha-Syrja' 'Nauka-Obrazovanie'\n",
      " 'Sportivnye-kluby-fitnes-salony-krasoty'\n",
      " 'Gosudarstvennaja-sluzhba-nekommercheskie-organizacii' 'Konsultirovanie'\n",
      " 'Strahovanie' 'Installjacija-i-servis' 'Domashnij-personal']\n"
     ]
    }
   ],
   "source": [
    "df.columns = df.columns.str.lower()\n",
    "print('Уникальные платформы:', df['category'].unique())"
   ]
  },
  {
   "cell_type": "markdown",
   "id": "5b041dfe",
   "metadata": {},
   "source": [
    "Неявных дубликатов в столбце категорий нет.<br>\n",
    "Для удобства дальнейшей работы работы заменим тип данных в столбце `Date` на datetime:"
   ]
  },
  {
   "cell_type": "code",
   "execution_count": 5,
   "id": "b4777273",
   "metadata": {},
   "outputs": [],
   "source": [
    "df['date'] = pd.to_datetime(df['date'], format = ('%Y.%m.%d'))"
   ]
  },
  {
   "cell_type": "markdown",
   "id": "6cb0a596",
   "metadata": {},
   "source": [
    "## 2. Построение диаграмм распределения\n",
    "Построим столбчатую диаграмму созданий резюме для студентов, начинающих карьеру отедльно для мужчин и женщин. Для наглядности сделаем это на одном графике."
   ]
  },
  {
   "cell_type": "code",
   "execution_count": 6,
   "id": "c6b249aa",
   "metadata": {
    "scrolled": false
   },
   "outputs": [
    {
     "data": {
      "text/plain": [
       "<matplotlib.axes._subplots.AxesSubplot at 0x25edd248a08>"
      ]
     },
     "execution_count": 6,
     "metadata": {},
     "output_type": "execute_result"
    },
    {
     "data": {
      "image/png": "[encoded data removed]",
      "text/plain": [
       "<Figure size 792x432 with 1 Axes>"
      ]
     },
     "metadata": {},
     "output_type": "display_data"
    }
   ],
   "source": [
    "sns.set(rc={'figure.figsize':(11,6)})\n",
    "sns.barplot(x='age', y='goals', data=df.query(\n",
    "    'gender == \"female\" and category == \"Nachalo-karery-Studenty\"').pivot_table(\n",
    "    index = 'age', values = 'goals', aggfunc = 'sum').reset_index(), color = 'r')\n",
    "sns.barplot(x='age', y='goals', data=df.query(\n",
    "    'gender == \"male\" and category == \"Nachalo-karery-Studenty\"').pivot_table(\n",
    "    index = 'age', values = 'goals', aggfunc = 'sum').reset_index(), color = 'b', alpha = 0.6)"
   ]
  },
  {
   "cell_type": "markdown",
   "id": "f4d6b77d",
   "metadata": {},
   "source": [
    "Красным на диаграмме представлены женщины, голубым - мужчины.<br>\n",
    "* Видно, что практически во всех возрастных категориях женщины создают на 15-20% больше резюме, чем мужчины. Только в категории 25-34 мужчины имеют перевес в 5% по количеству созданных резюме. Учитывая, что женщин в России практически на 10% больше - выглядит совершенно логично.\n",
    "* Наиболее популярными возрастными категориями для поиска работы являются категории 18-24 и 25-34, причем женщины распределены практически одинаково, а мужчины на 10% чаще начинают карьеру в возрасте 25-34. Возможно, это связано с тем, что если мужчина до получения высшего образования тратит год на армию, он, скорее всего, попадает в возрастную категорию не 18-24, а 25-34.\n",
    "* Начиная с возрастной категории 25-34 количество созданных резюме резко падает - практически в 2 раза меньше для каждой следующей категории."
   ]
  },
  {
   "cell_type": "markdown",
   "id": "ffa9f2d3",
   "metadata": {},
   "source": [
    "## 3. Прогнозирование объема трафика\n",
    "\n",
    "Учитывая, что объем трафика необходимо спрогнозировать на следующий месяц, логично разделить данные на категории по месяцам. Выделим их:"
   ]
  },
  {
   "cell_type": "code",
   "execution_count": 7,
   "id": "5c9a5046",
   "metadata": {},
   "outputs": [
    {
     "data": {
      "text/html": [
       "<div>\n",
       "<style scoped>\n",
       "    .dataframe tbody tr th:only-of-type {\n",
       "        vertical-align: middle;\n",
       "    }\n",
       "\n",
       "    .dataframe tbody tr th {\n",
       "        vertical-align: top;\n",
       "    }\n",
       "\n",
       "    .dataframe thead th {\n",
       "        text-align: right;\n",
       "    }\n",
       "</style>\n",
       "<table border=\"1\" class=\"dataframe\">\n",
       "  <thead>\n",
       "    <tr style=\"text-align: right;\">\n",
       "      <th></th>\n",
       "      <th>date</th>\n",
       "      <th>category</th>\n",
       "      <th>age</th>\n",
       "      <th>gender</th>\n",
       "      <th>sessions</th>\n",
       "      <th>users</th>\n",
       "      <th>goals</th>\n",
       "      <th>month</th>\n",
       "      <th>year</th>\n",
       "    </tr>\n",
       "  </thead>\n",
       "  <tbody>\n",
       "    <tr>\n",
       "      <td>0</td>\n",
       "      <td>2020-03-02</td>\n",
       "      <td>Prodazhi</td>\n",
       "      <td>25-34</td>\n",
       "      <td>female</td>\n",
       "      <td>22235</td>\n",
       "      <td>10504</td>\n",
       "      <td>185</td>\n",
       "      <td>3</td>\n",
       "      <td>2020</td>\n",
       "    </tr>\n",
       "    <tr>\n",
       "      <td>1</td>\n",
       "      <td>2020-03-03</td>\n",
       "      <td>Prodazhi</td>\n",
       "      <td>25-34</td>\n",
       "      <td>female</td>\n",
       "      <td>20423</td>\n",
       "      <td>10425</td>\n",
       "      <td>181</td>\n",
       "      <td>3</td>\n",
       "      <td>2020</td>\n",
       "    </tr>\n",
       "    <tr>\n",
       "      <td>2</td>\n",
       "      <td>2020-03-10</td>\n",
       "      <td>Prodazhi</td>\n",
       "      <td>25-34</td>\n",
       "      <td>female</td>\n",
       "      <td>19784</td>\n",
       "      <td>10167</td>\n",
       "      <td>205</td>\n",
       "      <td>3</td>\n",
       "      <td>2020</td>\n",
       "    </tr>\n",
       "    <tr>\n",
       "      <td>3</td>\n",
       "      <td>2020-03-04</td>\n",
       "      <td>Prodazhi</td>\n",
       "      <td>25-34</td>\n",
       "      <td>female</td>\n",
       "      <td>19394</td>\n",
       "      <td>9917</td>\n",
       "      <td>174</td>\n",
       "      <td>3</td>\n",
       "      <td>2020</td>\n",
       "    </tr>\n",
       "    <tr>\n",
       "      <td>4</td>\n",
       "      <td>2020-03-11</td>\n",
       "      <td>Prodazhi</td>\n",
       "      <td>25-34</td>\n",
       "      <td>female</td>\n",
       "      <td>18875</td>\n",
       "      <td>9813</td>\n",
       "      <td>214</td>\n",
       "      <td>3</td>\n",
       "      <td>2020</td>\n",
       "    </tr>\n",
       "  </tbody>\n",
       "</table>\n",
       "</div>"
      ],
      "text/plain": [
       "        date  category    age  gender  sessions  users  goals  month  year\n",
       "0 2020-03-02  Prodazhi  25-34  female     22235  10504    185      3  2020\n",
       "1 2020-03-03  Prodazhi  25-34  female     20423  10425    181      3  2020\n",
       "2 2020-03-10  Prodazhi  25-34  female     19784  10167    205      3  2020\n",
       "3 2020-03-04  Prodazhi  25-34  female     19394   9917    174      3  2020\n",
       "4 2020-03-11  Prodazhi  25-34  female     18875   9813    214      3  2020"
      ]
     },
     "execution_count": 7,
     "metadata": {},
     "output_type": "execute_result"
    }
   ],
   "source": [
    "df['month'] = pd.DatetimeIndex(df['date']).month\n",
    "df['year'] = pd.DatetimeIndex(df['date']).year\n",
    "df.head()"
   ]
  },
  {
   "cell_type": "markdown",
   "id": "a46a82e5",
   "metadata": {},
   "source": [
    "Мы имеем дело с данными за весенние месяцы 2020 года. Создадим сводную таблицу по месяцам:"
   ]
  },
  {
   "cell_type": "code",
   "execution_count": 8,
   "id": "495f3d1d",
   "metadata": {},
   "outputs": [
    {
     "data": {
      "text/html": [
       "<div>\n",
       "<style scoped>\n",
       "    .dataframe tbody tr th:only-of-type {\n",
       "        vertical-align: middle;\n",
       "    }\n",
       "\n",
       "    .dataframe tbody tr th {\n",
       "        vertical-align: top;\n",
       "    }\n",
       "\n",
       "    .dataframe thead th {\n",
       "        text-align: right;\n",
       "    }\n",
       "</style>\n",
       "<table border=\"1\" class=\"dataframe\">\n",
       "  <thead>\n",
       "    <tr style=\"text-align: right;\">\n",
       "      <th></th>\n",
       "      <th>sessions</th>\n",
       "    </tr>\n",
       "    <tr>\n",
       "      <th>month</th>\n",
       "      <th></th>\n",
       "    </tr>\n",
       "  </thead>\n",
       "  <tbody>\n",
       "    <tr>\n",
       "      <td>3</td>\n",
       "      <td>868535</td>\n",
       "    </tr>\n",
       "    <tr>\n",
       "      <td>4</td>\n",
       "      <td>259864</td>\n",
       "    </tr>\n",
       "    <tr>\n",
       "      <td>5</td>\n",
       "      <td>271439</td>\n",
       "    </tr>\n",
       "  </tbody>\n",
       "</table>\n",
       "</div>"
      ],
      "text/plain": [
       "       sessions\n",
       "month          \n",
       "3        868535\n",
       "4        259864\n",
       "5        271439"
      ]
     },
     "execution_count": 8,
     "metadata": {},
     "output_type": "execute_result"
    }
   ],
   "source": [
    "df.query('category == \"Informacionnye-tehnologii-Internet-Telekom\"').pivot_table(\n",
    "    index = 'month', values = 'sessions', aggfunc='sum')"
   ]
  },
  {
   "cell_type": "markdown",
   "id": "1db857d0",
   "metadata": {},
   "source": [
    "Имеем дело с чем-то, что к лету резко теряет свою актуальность - больше, чем в 2.5 раза. Если судить по тренду за 4 и 5 месяцы, то можно предположить о трафике около 285000 посещений в шестом месяце.<br>"
   ]
  },
  {
   "cell_type": "code",
   "execution_count": 9,
   "id": "017282f2",
   "metadata": {
    "scrolled": true
   },
   "outputs": [
    {
     "data": {
      "text/html": [
       "<div>\n",
       "<style scoped>\n",
       "    .dataframe tbody tr th:only-of-type {\n",
       "        vertical-align: middle;\n",
       "    }\n",
       "\n",
       "    .dataframe tbody tr th {\n",
       "        vertical-align: top;\n",
       "    }\n",
       "\n",
       "    .dataframe thead th {\n",
       "        text-align: right;\n",
       "    }\n",
       "</style>\n",
       "<table border=\"1\" class=\"dataframe\">\n",
       "  <thead>\n",
       "    <tr style=\"text-align: right;\">\n",
       "      <th></th>\n",
       "      <th>users</th>\n",
       "    </tr>\n",
       "    <tr>\n",
       "      <th>month</th>\n",
       "      <th></th>\n",
       "    </tr>\n",
       "  </thead>\n",
       "  <tbody>\n",
       "    <tr>\n",
       "      <td>3</td>\n",
       "      <td>482177</td>\n",
       "    </tr>\n",
       "    <tr>\n",
       "      <td>4</td>\n",
       "      <td>191035</td>\n",
       "    </tr>\n",
       "    <tr>\n",
       "      <td>5</td>\n",
       "      <td>197740</td>\n",
       "    </tr>\n",
       "  </tbody>\n",
       "</table>\n",
       "</div>"
      ],
      "text/plain": [
       "        users\n",
       "month        \n",
       "3      482177\n",
       "4      191035\n",
       "5      197740"
      ]
     },
     "execution_count": 9,
     "metadata": {},
     "output_type": "execute_result"
    }
   ],
   "source": [
    "df.query('category == \"Informacionnye-tehnologii-Internet-Telekom\"').pivot_table(\n",
    "    index = 'month', values = 'users', aggfunc='sum')"
   ]
  },
  {
   "cell_type": "markdown",
   "id": "f0d6a6e2",
   "metadata": {},
   "source": [
    "Аналогичная ситуация и с пользователями. В шестом месяце можно ожидать около 205 тысяч пользователей.\n",
    "\n",
    "Для построения более корректного прогноза необходимо уточнить статистику посещения чего мы исследуем – это поможет понять причину резкого падения активности. Также хорошо было бы взглянуть на месячные данные прошлых лет, хотя бы за два-три предыдущих года – возможно, это сезонное поведение объема трафика. Еще необходимо узнать не проводилось ли каких-то изменений в продукте, которые могли бы так негативно сказаться на трафике. И, конечно, нельзя забывать про рекламу – возможно, значение в 870 тысяч посетителей связано именно с ней – и после окончания рекламной кампании трафик вернулся в начальное состояние (или, скорее всего, чуть выше него, учитывая остаточный эффект)."
   ]
  }
 ],
 "metadata": {
  "kernelspec": {
   "display_name": "Python 3 (ipykernel)",
   "language": "python",
   "name": "python3"
  },
  "language_info": {
   "codemirror_mode": {
    "name": "ipython",
    "version": 3
   },
   "file_extension": ".py",
   "mimetype": "text/x-python",
   "name": "python",
   "nbconvert_exporter": "python",
   "pygments_lexer": "ipython3",
   "version": "3.7.8"
  }
 },
 "nbformat": 4,
 "nbformat_minor": 5
}
